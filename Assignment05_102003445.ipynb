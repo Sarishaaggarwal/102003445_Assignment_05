{
  "nbformat": 4,
  "nbformat_minor": 0,
  "metadata": {
    "colab": {
      "provenance": []
    },
    "kernelspec": {
      "name": "python3",
      "display_name": "Python 3"
    },
    "language_info": {
      "name": "python"
    }
  },
  "cells": [
    {
      "cell_type": "code",
      "execution_count": 2,
      "metadata": {
        "colab": {
          "base_uri": "https://localhost:8080/"
        },
        "id": "q33gtc4ihEFa",
        "outputId": "df1d8638-de18-4ccc-c83a-9244dace2b0e"
      },
      "outputs": [
        {
          "output_type": "stream",
          "name": "stdout",
          "text": [
            "Best hyperparameters: {'C': 10, 'gamma': 0.1}\n",
            "Best accuracy score: 0.9835\n"
          ]
        }
      ],
      "source": [
        "import pandas as pd\n",
        "from sklearn.feature_extraction.text import TfidfVectorizer\n",
        "from sklearn.model_selection import StratifiedKFold, GridSearchCV\n",
        "from sklearn.svm import SVC\n",
        "\n",
        "# Load the dataset from a CSV file\n",
        "df = pd.read_csv('SMSSpamCollection.csv', sep='\\t', header=None, names=['label', 'text'])\n",
        "\n",
        "# Convert the text labels to numerical labels\n",
        "df['label'] = df['label'].map({'ham': 0, 'spam': 1})\n",
        "\n",
        "# Create a TfidfVectorizer object to transform the text data into numerical vectors\n",
        "vectorizer = TfidfVectorizer(stop_words='english')\n",
        "\n",
        "# Use the vectorizer to transform the text data into numerical feature vectors\n",
        "X = vectorizer.fit_transform(df['text'])\n",
        "\n",
        "# Get the target labels\n",
        "y = df['label']\n",
        "\n",
        "# Define the hyperparameters to tune\n",
        "param_grid = {\n",
        "    'C': [0.1, 1, 10, 100],\n",
        "    'gamma': [0.001, 0.01, 0.1, 1],\n",
        "}\n",
        "\n",
        "# Use StratifiedKFold to split the data into 10 folds for cross-validation\n",
        "skf = StratifiedKFold(n_splits=10, shuffle=True, random_state=42)\n",
        "\n",
        "# Create an SVM classifier with the RBF kernel\n",
        "clf = SVC(kernel='rbf')\n",
        "\n",
        "# Use GridSearchCV to find the best hyperparameters\n",
        "grid_search = GridSearchCV(clf, param_grid, cv=skf, scoring='accuracy')\n",
        "grid_search.fit(X, y)\n",
        "\n",
        "# Print the best hyperparameters and the best accuracy score\n",
        "print(f\"Best hyperparameters: {grid_search.best_params_}\")\n",
        "print(f\"Best accuracy score: {grid_search.best_score_:.4f}\")\n"
      ]
    },
    {
      "cell_type": "code",
      "source": [
        "# Import the required libraries\n",
        "import pandas as pd\n",
        "from sklearn.feature_extraction.text import TfidfVectorizer\n",
        "from sklearn.model_selection import StratifiedKFold, GridSearchCV\n",
        "from sklearn.svm import SVC\n",
        "\n",
        "# Load the SMS data from a CSV file\n",
        "df = pd.read_csv('SMSSpamCollection.csv', sep='\\t', header=None, names=['label', 'text'])\n",
        "\n",
        "# Convert the text labels to numerical labels\n",
        "df['label'] = df['label'].map({'ham': 0, 'spam': 1})\n",
        "\n",
        "# Create a TfidfVectorizer object to transform the text data into numerical vectors\n",
        "vectorizer = TfidfVectorizer(stop_words='english')\n",
        "\n",
        "# Use the vectorizer to transform the text data into numerical feature vectors\n",
        "X = vectorizer.fit_transform(df['text'])\n",
        "\n",
        "# Get the target labels\n",
        "y = df['label']\n",
        "\n",
        "# Define the hyperparameters to tune\n",
        "param_grid = {\n",
        "    'C': [0.1, 1, 10, 100],\n",
        "    'gamma': [0.001, 0.01, 0.1, 1],\n",
        "}\n",
        "\n",
        "# Use StratifiedKFold to split the data into 10 folds for cross-validation\n",
        "skf = StratifiedKFold(n_splits=10, shuffle=True, random_state=42)\n",
        "\n",
        "# Create an SVM classifier with the RBF kernel\n",
        "clf = SVC(kernel='rbf')\n",
        "\n",
        "# Use GridSearchCV to find the best hyperparameters\n",
        "grid_search = GridSearchCV(clf, param_grid, cv=skf, scoring='accuracy')\n",
        "grid_search.fit(X, y)\n",
        "\n",
        "# Print the best hyperparameters and the best accuracy score\n",
        "print(f\"Best hyperparameters: {grid_search.best_params_}\")\n",
        "print(f\"Best accuracy score: {grid_search.best_score_:.4f}\")\n"
      ],
      "metadata": {
        "colab": {
          "base_uri": "https://localhost:8080/"
        },
        "id": "rSuRtUJ_iSI_",
        "outputId": "8e7edc6f-988c-499c-df23-6de81c16f2ec"
      },
      "execution_count": 3,
      "outputs": [
        {
          "output_type": "stream",
          "name": "stdout",
          "text": [
            "Best hyperparameters: {'C': 10, 'gamma': 0.1}\n",
            "Best accuracy score: 0.9835\n"
          ]
        }
      ]
    },
    {
      "cell_type": "code",
      "source": [
        "import pandas as pd\n",
        "from sklearn.feature_extraction.text import TfidfVectorizer\n",
        "from sklearn.model_selection import StratifiedKFold, GridSearchCV\n",
        "from sklearn.svm import SVC\n",
        "\n",
        "# Load the dataset\n",
        "df = pd.read_csv('SMSSpamCollection.csv', sep='\\t', header=None, names=['label', 'text'])\n",
        "\n",
        "# Preprocess the dataset\n",
        "df['label'] = df['label'].map({'ham': 0, 'spam': 1})\n",
        "vectorizer = TfidfVectorizer(stop_words='english')\n",
        "X = vectorizer.fit_transform(df['text'])\n",
        "y = df['label']\n",
        "\n",
        "# Define the hyperparameters to tune\n",
        "param_grid = {\n",
        "    'C': [1, 10, 100],\n",
        "    'kernel': ['rbf', 'sigmoid'],\n",
        "    'gamma': ['scale', 'auto'],\n",
        "    'class_weight': [None, 'balanced']\n",
        "}\n",
        "\n",
        "# Split the dataset into 10 samples and use GridSearchCV to find the best hyperparameters\n",
        "skf = StratifiedKFold(n_splits=10, shuffle=True, random_state=42)\n",
        "clf = SVC()\n",
        "grid_search = GridSearchCV(clf, param_grid, cv=skf, scoring='accuracy')\n",
        "grid_search.fit(X, y)\n",
        "\n",
        "# Print the best hyperparameters and the best accuracy score\n",
        "print(f\"Best hyperparameters: {grid_search.best_params_}\")\n",
        "print(f\"Best accuracy score: {grid_search.best_score_:.4f}\")\n"
      ],
      "metadata": {
        "colab": {
          "base_uri": "https://localhost:8080/"
        },
        "id": "XJf79vq5mQyi",
        "outputId": "fea5e962-21e4-488f-f208-bba532aba534"
      },
      "execution_count": 6,
      "outputs": [
        {
          "output_type": "stream",
          "name": "stdout",
          "text": [
            "Best hyperparameters: {'C': 1, 'class_weight': 'balanced', 'gamma': 'scale', 'kernel': 'sigmoid'}\n",
            "Best accuracy score: 0.9824\n"
          ]
        }
      ]
    },
    {
      "cell_type": "code",
      "source": [
        "import pandas as pd\n",
        "import numpy as np\n",
        "from sklearn.feature_extraction.text import TfidfVectorizer\n",
        "from sklearn.model_selection import StratifiedKFold, GridSearchCV\n",
        "from sklearn.svm import SVC\n",
        "import matplotlib.pyplot as plt\n",
        "\n",
        "# Load the dataset\n",
        "df = pd.read_csv('SMSSpamCollection.csv', sep='\\t', header=None, names=['label', 'text'])\n",
        "\n",
        "# Preprocess the dataset\n",
        "df['label'] = df['label'].map({'ham': 0, 'spam': 1})\n",
        "vectorizer = TfidfVectorizer(stop_words='english')\n",
        "X = vectorizer.fit_transform(df['text'])\n",
        "y = df['label']\n",
        "\n",
        "# Create a grid of C and gamma values\n",
        "C_range = [0.01, 0.1, 1, 10, 100]\n",
        "gamma_range = [0.0001, 0.001, 0.01, 0.1, 1]\n",
        "C, gamma = np.meshgrid(C_range, gamma_range)\n",
        "\n",
        "# Compute the accuracy for each combination of C and gamma values\n",
        "accuracy = np.zeros_like(C)\n",
        "skf = StratifiedKFold(n_splits=5, shuffle=True, random_state=42)\n",
        "for i in range(len(C_range)):\n",
        "    for j in range(len(gamma_range)):\n",
        "        clf = SVC(kernel='rbf', C=C_range[i], gamma=gamma_range[j])\n",
        "        scores = []\n",
        "        for train_idx, test_idx in skf.split(X, y):\n",
        "            X_train, X_test = X[train_idx], X[test_idx]\n",
        "            y_train, y_test = y[train_idx], y[test_idx]\n",
        "            clf.fit(X_train, y_train)\n",
        "            scores.append(clf.score(X_test, y_test))\n",
        "        accuracy[j, i] = np.mean(scores)\n",
        "\n",
        "# Plot the accuracy for each combination of C and gamma values\n",
        "plt.figure(figsize=(8, 6))\n",
        "plt.scatter(C, gamma, c=accuracy, cmap='viridis')\n",
        "plt.colorbar()\n",
        "plt.xscale('log')\n",
        "plt.xlabel('C')\n",
        "plt.ylabel('Gamma')\n",
        "plt.title('SVM accuracy')\n",
        "plt.show()\n"
      ],
      "metadata": {
        "colab": {
          "base_uri": "https://localhost:8080/",
          "height": 569
        },
        "id": "toUHtr43n8Lp",
        "outputId": "b277ba2f-6649-4ad8-9f6c-2c0c5632a394"
      },
      "execution_count": 7,
      "outputs": [
        {
          "output_type": "display_data",
          "data": {
            "text/plain": [
              "<Figure size 800x600 with 2 Axes>"
            ],
            "image/png": "[encoded data removed]"
          },
          "metadata": {}
        }
      ]
    },
    {
      "cell_type": "code",
      "source": [],
      "metadata": {
        "id": "Xmf-v6kSpLpj"
      },
      "execution_count": null,
      "outputs": []
    }
  ]
}